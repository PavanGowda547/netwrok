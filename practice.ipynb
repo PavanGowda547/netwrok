{
 "cells": [
  {
   "cell_type": "code",
   "execution_count": 11,
   "id": "f3e1c1dc",
   "metadata": {},
   "outputs": [],
   "source": [
    "import pandas as pd"
   ]
  },
  {
   "cell_type": "code",
   "execution_count": 78,
   "id": "eec75a99",
   "metadata": {},
   "outputs": [],
   "source": [
    "comm_data = pd.read_excel('1.xlsx')\n",
    "battery_data = pd.read_excel('2.xlsx')\n",
    "solar_data = pd.read_excel('3.xlsx')\n",
    "binary_data = pd.read_excel('4.xlsx')\n",
    "config_data = pd.read_excel('5.xlsx')\n",
    "triggers_data = pd.read_excel('6.xlsx')\n",
    "reset_data = pd.read_excel('7.xlsx')\n",
    "diag126_data = pd.read_excel('8.xlsx')"
   ]
  },
  {
   "cell_type": "code",
   "execution_count": 79,
   "id": "c30c85dd",
   "metadata": {},
   "outputs": [
    {
     "data": {
      "text/plain": [
       "Index(['Customerid', 'Areaid', 'Meterid', 'Datetime', 'Message'], dtype='object')"
      ]
     },
     "execution_count": 79,
     "metadata": {},
     "output_type": "execute_result"
    }
   ],
   "source": [
    "comm_data.columns"
   ]
  },
  {
   "cell_type": "code",
   "execution_count": 80,
   "id": "0de6cb09",
   "metadata": {},
   "outputs": [
    {
     "name": "stdout",
     "output_type": "stream",
     "text": [
      "<class 'pandas.core.frame.DataFrame'>\n",
      "RangeIndex: 1873 entries, 0 to 1872\n",
      "Data columns (total 5 columns):\n",
      " #   Column      Non-Null Count  Dtype         \n",
      "---  ------      --------------  -----         \n",
      " 0   Customerid  1873 non-null   int64         \n",
      " 1   Areaid      1873 non-null   int64         \n",
      " 2   Meterid     1873 non-null   int64         \n",
      " 3   Datetime    1873 non-null   datetime64[ns]\n",
      " 4   Message     1873 non-null   object        \n",
      "dtypes: datetime64[ns](1), int64(3), object(1)\n",
      "memory usage: 73.3+ KB\n"
     ]
    }
   ],
   "source": [
    "comm_data.info()"
   ]
  },
  {
   "cell_type": "code",
   "execution_count": 81,
   "id": "393ada85",
   "metadata": {},
   "outputs": [
    {
     "data": {
      "text/plain": [
       "Customerid    0\n",
       "Areaid        0\n",
       "Meterid       0\n",
       "Datetime      0\n",
       "Message       0\n",
       "dtype: int64"
      ]
     },
     "execution_count": 81,
     "metadata": {},
     "output_type": "execute_result"
    }
   ],
   "source": [
    "comm_data.isnull().sum()"
   ]
  },
  {
   "cell_type": "code",
   "execution_count": 82,
   "id": "fd7dd133",
   "metadata": {},
   "outputs": [],
   "source": [
    "data = comm_data.groupby('Meterid')['Datetime'].max()"
   ]
  },
  {
   "cell_type": "code",
   "execution_count": 83,
   "id": "5af91c1f",
   "metadata": {},
   "outputs": [
    {
     "name": "stdout",
     "output_type": "stream",
     "text": [
      "Meterid\n",
      "36003   2025-04-24 23:21:33.787\n",
      "36004   2025-04-24 23:21:31.683\n",
      "36005   2025-04-24 23:51:46.207\n",
      "36006   2025-04-24 23:51:44.073\n",
      "36007   2025-04-24 23:33:52.277\n",
      "36008   2025-04-24 23:33:50.153\n",
      "36009   2025-04-24 23:07:39.727\n",
      "36010   2025-04-24 23:07:37.693\n",
      "36011   2025-04-24 22:59:48.663\n",
      "36012   2025-04-24 22:59:46.633\n",
      "36013   2025-04-24 23:01:16.060\n",
      "36014   2025-04-24 23:01:14.010\n",
      "36015   2025-04-24 23:02:09.493\n",
      "36016   2025-04-24 23:02:07.457\n",
      "36017   2025-04-24 23:16:44.927\n",
      "36018   2025-04-24 23:16:30.873\n",
      "Name: Datetime, dtype: datetime64[ns]\n"
     ]
    }
   ],
   "source": [
    "print(data)"
   ]
  },
  {
   "cell_type": "code",
   "execution_count": 84,
   "id": "7dfa36f6",
   "metadata": {},
   "outputs": [
    {
     "name": "stdout",
     "output_type": "stream",
     "text": [
      "<class 'pandas.core.frame.DataFrame'>\n",
      "RangeIndex: 641 entries, 0 to 640\n",
      "Data columns (total 6 columns):\n",
      " #   Column           Non-Null Count  Dtype         \n",
      "---  ------           --------------  -----         \n",
      " 0   customerid       641 non-null    int64         \n",
      " 1   areaid           641 non-null    int64         \n",
      " 2   meterid          641 non-null    int64         \n",
      " 3   datetime         641 non-null    datetime64[ns]\n",
      " 4   diagnostictype   641 non-null    int64         \n",
      " 5   diagnosticvalue  641 non-null    object        \n",
      "dtypes: datetime64[ns](1), int64(4), object(1)\n",
      "memory usage: 30.2+ KB\n"
     ]
    }
   ],
   "source": [
    "battery_data.info()"
   ]
  },
  {
   "cell_type": "code",
   "execution_count": 85,
   "id": "26d67e8b",
   "metadata": {},
   "outputs": [
    {
     "data": {
      "text/plain": [
       "0      4.04\n",
       "1      4.04\n",
       "2      4.04\n",
       "3      4.04\n",
       "4      4.04\n",
       "       ... \n",
       "636    3.71\n",
       "637    3.71\n",
       "638    3.71\n",
       "639    3.72\n",
       "640    3.72\n",
       "Length: 641, dtype: float64"
      ]
     },
     "execution_count": 85,
     "metadata": {},
     "output_type": "execute_result"
    }
   ],
   "source": [
    "import numpy as np\n",
    "\n",
    "collect = battery_data['diagnosticvalue']\n",
    "split_collect = collect.str.split(',',expand=True)\n",
    "split_collect = split_collect.apply(pd.to_numeric)\n",
    "def get_first_nonzero(row):\n",
    "    for val in row:\n",
    "        if val!=0:\n",
    "            return val\n",
    "    return np.nan\n",
    "split_collect = split_collect.apply(get_first_nonzero,axis=1)\n",
    "split_collect\n"
   ]
  },
  {
   "cell_type": "code",
   "execution_count": 86,
   "id": "0fd4b738",
   "metadata": {},
   "outputs": [
    {
     "data": {
      "text/plain": [
       "0      0.17\n",
       "1      0.16\n",
       "2      0.16\n",
       "3      0.16\n",
       "4      0.16\n",
       "       ... \n",
       "636    0.00\n",
       "637    0.00\n",
       "638    0.00\n",
       "639    0.00\n",
       "640    0.00\n",
       "Length: 641, dtype: float64"
      ]
     },
     "execution_count": 86,
     "metadata": {},
     "output_type": "execute_result"
    }
   ],
   "source": [
    "split_cols = solar_data['diagnosticvalue'].str.split(',', expand=True)\n",
    "split_cols = split_cols.apply(pd.to_numeric)\n",
    "split_cols= split_cols.max(axis=1)\n",
    "split_cols"
   ]
  },
  {
   "cell_type": "code",
   "execution_count": 87,
   "id": "ff0c5aba",
   "metadata": {},
   "outputs": [
    {
     "data": {
      "text/html": [
       "<div>\n",
       "<style scoped>\n",
       "    .dataframe tbody tr th:only-of-type {\n",
       "        vertical-align: middle;\n",
       "    }\n",
       "\n",
       "    .dataframe tbody tr th {\n",
       "        vertical-align: top;\n",
       "    }\n",
       "\n",
       "    .dataframe thead th {\n",
       "        text-align: right;\n",
       "    }\n",
       "</style>\n",
       "<table border=\"1\" class=\"dataframe\">\n",
       "  <thead>\n",
       "    <tr style=\"text-align: right;\">\n",
       "      <th></th>\n",
       "      <th>meterid</th>\n",
       "      <th>diag</th>\n",
       "    </tr>\n",
       "  </thead>\n",
       "  <tbody>\n",
       "    <tr>\n",
       "      <th>0</th>\n",
       "      <td>36003</td>\n",
       "      <td>12</td>\n",
       "    </tr>\n",
       "    <tr>\n",
       "      <th>1</th>\n",
       "      <td>36004</td>\n",
       "      <td>4</td>\n",
       "    </tr>\n",
       "    <tr>\n",
       "      <th>2</th>\n",
       "      <td>36006</td>\n",
       "      <td>22</td>\n",
       "    </tr>\n",
       "    <tr>\n",
       "      <th>3</th>\n",
       "      <td>36008</td>\n",
       "      <td>4</td>\n",
       "    </tr>\n",
       "    <tr>\n",
       "      <th>4</th>\n",
       "      <td>36009</td>\n",
       "      <td>5</td>\n",
       "    </tr>\n",
       "    <tr>\n",
       "      <th>5</th>\n",
       "      <td>36010</td>\n",
       "      <td>13</td>\n",
       "    </tr>\n",
       "    <tr>\n",
       "      <th>6</th>\n",
       "      <td>36011</td>\n",
       "      <td>24</td>\n",
       "    </tr>\n",
       "    <tr>\n",
       "      <th>7</th>\n",
       "      <td>36012</td>\n",
       "      <td>12</td>\n",
       "    </tr>\n",
       "    <tr>\n",
       "      <th>8</th>\n",
       "      <td>36013</td>\n",
       "      <td>6</td>\n",
       "    </tr>\n",
       "    <tr>\n",
       "      <th>9</th>\n",
       "      <td>36014</td>\n",
       "      <td>8</td>\n",
       "    </tr>\n",
       "    <tr>\n",
       "      <th>10</th>\n",
       "      <td>36015</td>\n",
       "      <td>23</td>\n",
       "    </tr>\n",
       "    <tr>\n",
       "      <th>11</th>\n",
       "      <td>36016</td>\n",
       "      <td>21</td>\n",
       "    </tr>\n",
       "    <tr>\n",
       "      <th>12</th>\n",
       "      <td>36017</td>\n",
       "      <td>1</td>\n",
       "    </tr>\n",
       "    <tr>\n",
       "      <th>13</th>\n",
       "      <td>36018</td>\n",
       "      <td>11</td>\n",
       "    </tr>\n",
       "  </tbody>\n",
       "</table>\n",
       "</div>"
      ],
      "text/plain": [
       "    meterid  diag\n",
       "0     36003    12\n",
       "1     36004     4\n",
       "2     36006    22\n",
       "3     36008     4\n",
       "4     36009     5\n",
       "5     36010    13\n",
       "6     36011    24\n",
       "7     36012    12\n",
       "8     36013     6\n",
       "9     36014     8\n",
       "10    36015    23\n",
       "11    36016    21\n",
       "12    36017     1\n",
       "13    36018    11"
      ]
     },
     "execution_count": 87,
     "metadata": {},
     "output_type": "execute_result"
    }
   ],
   "source": [
    "diag126_data"
   ]
  },
  {
   "cell_type": "code",
   "execution_count": 88,
   "id": "c643556b",
   "metadata": {},
   "outputs": [
    {
     "data": {
      "text/html": [
       "<div>\n",
       "<style scoped>\n",
       "    .dataframe tbody tr th:only-of-type {\n",
       "        vertical-align: middle;\n",
       "    }\n",
       "\n",
       "    .dataframe tbody tr th {\n",
       "        vertical-align: top;\n",
       "    }\n",
       "\n",
       "    .dataframe thead th {\n",
       "        text-align: right;\n",
       "    }\n",
       "</style>\n",
       "<table border=\"1\" class=\"dataframe\">\n",
       "  <thead>\n",
       "    <tr style=\"text-align: right;\">\n",
       "      <th></th>\n",
       "      <th>meterid</th>\n",
       "      <th>diag</th>\n",
       "    </tr>\n",
       "  </thead>\n",
       "  <tbody>\n",
       "    <tr>\n",
       "      <th>1</th>\n",
       "      <td>36004</td>\n",
       "      <td>4</td>\n",
       "    </tr>\n",
       "    <tr>\n",
       "      <th>2</th>\n",
       "      <td>36006</td>\n",
       "      <td>22</td>\n",
       "    </tr>\n",
       "    <tr>\n",
       "      <th>3</th>\n",
       "      <td>36008</td>\n",
       "      <td>4</td>\n",
       "    </tr>\n",
       "    <tr>\n",
       "      <th>5</th>\n",
       "      <td>36010</td>\n",
       "      <td>13</td>\n",
       "    </tr>\n",
       "    <tr>\n",
       "      <th>7</th>\n",
       "      <td>36012</td>\n",
       "      <td>12</td>\n",
       "    </tr>\n",
       "    <tr>\n",
       "      <th>9</th>\n",
       "      <td>36014</td>\n",
       "      <td>8</td>\n",
       "    </tr>\n",
       "    <tr>\n",
       "      <th>11</th>\n",
       "      <td>36016</td>\n",
       "      <td>21</td>\n",
       "    </tr>\n",
       "    <tr>\n",
       "      <th>13</th>\n",
       "      <td>36018</td>\n",
       "      <td>11</td>\n",
       "    </tr>\n",
       "  </tbody>\n",
       "</table>\n",
       "</div>"
      ],
      "text/plain": [
       "    meterid  diag\n",
       "1     36004     4\n",
       "2     36006    22\n",
       "3     36008     4\n",
       "5     36010    13\n",
       "7     36012    12\n",
       "9     36014     8\n",
       "11    36016    21\n",
       "13    36018    11"
      ]
     },
     "execution_count": 88,
     "metadata": {},
     "output_type": "execute_result"
    }
   ],
   "source": [
    "parent_data = diag126_data[diag126_data['meterid']%2!=0]\n",
    "child_data = diag126_data[diag126_data['meterid']%2==0]\n",
    "child_data"
   ]
  },
  {
   "cell_type": "code",
   "execution_count": 89,
   "id": "8d340e0d",
   "metadata": {},
   "outputs": [
    {
     "data": {
      "text/html": [
       "<div>\n",
       "<style scoped>\n",
       "    .dataframe tbody tr th:only-of-type {\n",
       "        vertical-align: middle;\n",
       "    }\n",
       "\n",
       "    .dataframe tbody tr th {\n",
       "        vertical-align: top;\n",
       "    }\n",
       "\n",
       "    .dataframe thead th {\n",
       "        text-align: right;\n",
       "    }\n",
       "</style>\n",
       "<table border=\"1\" class=\"dataframe\">\n",
       "  <thead>\n",
       "    <tr style=\"text-align: right;\">\n",
       "      <th></th>\n",
       "      <th>meterid</th>\n",
       "      <th>diag</th>\n",
       "    </tr>\n",
       "  </thead>\n",
       "  <tbody>\n",
       "    <tr>\n",
       "      <th>0</th>\n",
       "      <td>36003</td>\n",
       "      <td>12</td>\n",
       "    </tr>\n",
       "    <tr>\n",
       "      <th>4</th>\n",
       "      <td>36009</td>\n",
       "      <td>5</td>\n",
       "    </tr>\n",
       "    <tr>\n",
       "      <th>6</th>\n",
       "      <td>36011</td>\n",
       "      <td>24</td>\n",
       "    </tr>\n",
       "    <tr>\n",
       "      <th>8</th>\n",
       "      <td>36013</td>\n",
       "      <td>6</td>\n",
       "    </tr>\n",
       "    <tr>\n",
       "      <th>10</th>\n",
       "      <td>36015</td>\n",
       "      <td>23</td>\n",
       "    </tr>\n",
       "    <tr>\n",
       "      <th>12</th>\n",
       "      <td>36017</td>\n",
       "      <td>1</td>\n",
       "    </tr>\n",
       "  </tbody>\n",
       "</table>\n",
       "</div>"
      ],
      "text/plain": [
       "    meterid  diag\n",
       "0     36003    12\n",
       "4     36009     5\n",
       "6     36011    24\n",
       "8     36013     6\n",
       "10    36015    23\n",
       "12    36017     1"
      ]
     },
     "execution_count": 89,
     "metadata": {},
     "output_type": "execute_result"
    }
   ],
   "source": [
    "parent_data"
   ]
  },
  {
   "cell_type": "code",
   "execution_count": 90,
   "id": "cd93d03a",
   "metadata": {},
   "outputs": [
    {
     "data": {
      "text/html": [
       "<div>\n",
       "<style scoped>\n",
       "    .dataframe tbody tr th:only-of-type {\n",
       "        vertical-align: middle;\n",
       "    }\n",
       "\n",
       "    .dataframe tbody tr th {\n",
       "        vertical-align: top;\n",
       "    }\n",
       "\n",
       "    .dataframe thead th {\n",
       "        text-align: right;\n",
       "    }\n",
       "</style>\n",
       "<table border=\"1\" class=\"dataframe\">\n",
       "  <thead>\n",
       "    <tr style=\"text-align: right;\">\n",
       "      <th></th>\n",
       "      <th>meterid</th>\n",
       "    </tr>\n",
       "  </thead>\n",
       "  <tbody>\n",
       "    <tr>\n",
       "      <th>0</th>\n",
       "      <td>36003</td>\n",
       "    </tr>\n",
       "    <tr>\n",
       "      <th>1</th>\n",
       "      <td>36004</td>\n",
       "    </tr>\n",
       "    <tr>\n",
       "      <th>2</th>\n",
       "      <td>36005</td>\n",
       "    </tr>\n",
       "    <tr>\n",
       "      <th>3</th>\n",
       "      <td>36007</td>\n",
       "    </tr>\n",
       "    <tr>\n",
       "      <th>4</th>\n",
       "      <td>36009</td>\n",
       "    </tr>\n",
       "    <tr>\n",
       "      <th>5</th>\n",
       "      <td>36011</td>\n",
       "    </tr>\n",
       "    <tr>\n",
       "      <th>6</th>\n",
       "      <td>36013</td>\n",
       "    </tr>\n",
       "    <tr>\n",
       "      <th>7</th>\n",
       "      <td>36017</td>\n",
       "    </tr>\n",
       "  </tbody>\n",
       "</table>\n",
       "</div>"
      ],
      "text/plain": [
       "   meterid\n",
       "0    36003\n",
       "1    36004\n",
       "2    36005\n",
       "3    36007\n",
       "4    36009\n",
       "5    36011\n",
       "6    36013\n",
       "7    36017"
      ]
     },
     "execution_count": 90,
     "metadata": {},
     "output_type": "execute_result"
    }
   ],
   "source": [
    "new_data = {\n",
    "    'meterid':[36003,36004,36005,36007,36009,36011,36013,36017]\n",
    "}\n",
    "new_data = pd.DataFrame(new_data)\n",
    "new_data"
   ]
  },
  {
   "cell_type": "code",
   "execution_count": null,
   "id": "f0148f13",
   "metadata": {},
   "outputs": [],
   "source": [
    "for "
   ]
  }
 ],
 "metadata": {
  "kernelspec": {
   "display_name": "Python 3",
   "language": "python",
   "name": "python3"
  },
  "language_info": {
   "codemirror_mode": {
    "name": "ipython",
    "version": 3
   },
   "file_extension": ".py",
   "mimetype": "text/x-python",
   "name": "python",
   "nbconvert_exporter": "python",
   "pygments_lexer": "ipython3",
   "version": "3.13.1"
  }
 },
 "nbformat": 4,
 "nbformat_minor": 5
}
